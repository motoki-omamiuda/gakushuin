{
 "cells": [
  {
   "cell_type": "code",
   "execution_count": 1,
   "metadata": {},
   "outputs": [],
   "source": [
    "using Plots\n",
    "using Format"
   ]
  },
  {
   "cell_type": "code",
   "execution_count": 7,
   "metadata": {},
   "outputs": [
    {
     "data": {
      "text/plain": [
       "calc_a (generic function with 1 method)"
      ]
     },
     "execution_count": 7,
     "metadata": {},
     "output_type": "execute_result"
    }
   ],
   "source": [
    "theta = 80\n",
    "radian = (theta / 360) * 2 * pi\n",
    "\n",
    "function gamma(phi)\n",
    "    return acos( cos(phi) * sin(radian) )\n",
    "end\n",
    "\n",
    "function calc_a(phi)\n",
    "    gamma_val = gamma(phi)\n",
    "    inner_val = cos(phi) * cos(radian) / sin(gamma_val)\n",
    "    if abs(inner_val) > 1\n",
    "        return NaN\n",
    "    end\n",
    "    return acos( inner_val )\n",
    "end"
   ]
  },
  {
   "cell_type": "code",
   "execution_count": 8,
   "metadata": {},
   "outputs": [
    {
     "name": "stdout",
     "output_type": "stream",
     "text": [
      "0.17453292519943317\t2.96705972839036\n"
     ]
    },
    {
     "data": {
      "text/plain": [
       "\"/Users/motoki/Desktop/motoki-omamiuda/gakushuin/codes/ipynb/2025-02/images/80-alpha.png\""
      ]
     },
     "execution_count": 8,
     "metadata": {},
     "output_type": "execute_result"
    }
   ],
   "source": [
    "global plt = plot(\n",
    "    xlim=(0, 2 * pi), ylim=(0, 3*pi),\n",
    "    # aspect_ratio=:equal,\n",
    "    legend=false, dpi=300\n",
    ")\n",
    "\n",
    "color_map = [\n",
    "    (0, \"#FF0000\"),\n",
    "    (1, \"#0000ff\"),\n",
    "    (2, \"#000000\")\n",
    "]\n",
    "\n",
    "# 計算\n",
    "under_band = gamma(0)\n",
    "over_band = gamma(pi)\n",
    "\n",
    "print(under_band, \"\\t\", over_band, \"\\n\")\n",
    "\n",
    "for (k, color) in color_map\n",
    "    plot!(\n",
    "        plt, [-1, 25, 25, -1], [under_band + k*pi, under_band + k*pi, over_band + k*pi, over_band + k*pi],\n",
    "        linewidth=1, style=:dash, color=color, fillcolor=color, fillalpha=0.1, fillrange=0\n",
    "    )\n",
    "end\n",
    "\n",
    "\n",
    "phi_list = []\n",
    "a_list = []\n",
    "gamma_list = []\n",
    "for phi_val in 0: 0.01: pi\n",
    "    push!(phi_list, phi_val)\n",
    "    push!(a_list, calc_a(phi_val))\n",
    "    push!(gamma_list, gamma(phi_val))\n",
    "end\n",
    "\n",
    "len = length(phi_list)\n",
    "for i in 1: 1:len-1\n",
    "    push!(a_list, a_list[i] + pi)\n",
    "    push!(gamma_list, gamma_list[len-i])\n",
    "end\n",
    "\n",
    "# plot!(plt, a_list, gamma_list, color=\"#000000\")\n",
    "for k in 0: 1: 4\n",
    "    plot!(plt, a_list, (k * pi) .+ gamma_list, color=\"#000000\")\n",
    "end\n",
    "\n",
    "x_01 = 1.47\n",
    "x_02 = 1.32\n",
    "plot!(plt, [x_01, x_01], [-100, 100], linewidth=1, style=:dot, color=\"black\")\n",
    "plot!(plt, [x_02, x_02], [-100, 100], linewidth=1, style=:dot, color=\"black\")\n",
    "\n",
    "\n",
    "savefig(plt, format(\"./images/{:d}-alpha.png\", theta))"
   ]
  },
  {
   "cell_type": "code",
   "execution_count": null,
   "metadata": {},
   "outputs": [],
   "source": [
    "global plt = plot(\n",
    "    xlim=(0, 2 * pi), ylim=(0, 3*pi),\n",
    "    # aspect_ratio=:equal,\n",
    "    legend=false, dpi=300\n",
    ")\n",
    "\n",
    "color_map = [\n",
    "    (0, \"#FF0000\"),\n",
    "    (1, \"#0000ff\"),\n",
    "    (2, \"#000000\")\n",
    "]\n",
    "\n",
    "# 計算\n",
    "under_band = gamma(0)\n",
    "over_band = gamma(pi)\n",
    "\n",
    "print(under_band, \"\\t\", over_band, \"\\n\")\n",
    "\n",
    "for (k, color) in color_map\n",
    "    plot!(\n",
    "        plt, [-1, 25, 25, -1], [under_band + k*pi, under_band + k*pi, over_band + k*pi, over_band + k*pi],\n",
    "        linewidth=1, style=:dash, color=color, fillcolor=color, fillalpha=0.1, fillrange=0\n",
    "    )\n",
    "end\n",
    "\n",
    "savefig(plt, format(\"./images/{:d}-color.png\", theta))"
   ]
  }
 ],
 "metadata": {
  "kernelspec": {
   "display_name": "Julia 1.11.1",
   "language": "julia",
   "name": "julia-1.11"
  },
  "language_info": {
   "file_extension": ".jl",
   "mimetype": "application/julia",
   "name": "julia",
   "version": "1.11.1"
  }
 },
 "nbformat": 4,
 "nbformat_minor": 2
}
