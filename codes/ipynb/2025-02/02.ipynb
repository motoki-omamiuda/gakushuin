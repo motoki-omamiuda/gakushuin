{
 "cells": [
  {
   "cell_type": "markdown",
   "metadata": {},
   "source": [
    "# 軌道のplot"
   ]
  },
  {
   "cell_type": "code",
   "execution_count": 1,
   "metadata": {},
   "outputs": [],
   "source": [
    "using Revise\n",
    "includet(\"./utils.jl\")"
   ]
  },
  {
   "cell_type": "code",
   "execution_count": 2,
   "metadata": {},
   "outputs": [],
   "source": [
    "using .Utils: create_r_and_v_list, binary_search_p, g, v_eff, integer_p_in_c\n",
    "using Plots\n",
    "using QuadGK: quadgk"
   ]
  },
  {
   "cell_type": "code",
   "execution_count": 18,
   "metadata": {},
   "outputs": [
    {
     "data": {
      "text/plain": [
       "add_plot! (generic function with 2 methods)"
      ]
     },
     "execution_count": 18,
     "metadata": {},
     "output_type": "execute_result"
    }
   ],
   "source": [
    "r_val = 20\n",
    "theta_zero = (30 / 360) * 2 * pi\n",
    "\n",
    "function add_plot!(plt, b_val, theta_zero=pi/6)\n",
    "    \"\"\"\n",
    "    無限遠、衝突係数bの位置を通る光のplot\n",
    "    \"\"\"\n",
    "    # Pの探索\n",
    "    r_and_v_list = create_r_and_v_list()\n",
    "    p_val = binary_search_p(b_val, r_and_v_list)\n",
    "\n",
    "    print(\n",
    "        integer_p_in_c(r_val, b_val, p_val)\n",
    "    )\n",
    "\n",
    "    # 無限遠からPまでの計算\n",
    "    r_list = []\n",
    "    phi_list = []\n",
    "\n",
    "    phi_end = 0\n",
    "\n",
    "    diff = 1e-3\n",
    "    for u_val in 1 / r_val: diff: 1 / p_val\n",
    "        phi_val, error = quadgk( x -> 1 / sqrt( g(x, b_val) ), 1 / r_val, u_val)\n",
    "        push!(r_list, 1 / u_val)\n",
    "        push!(phi_list, phi_val)\n",
    "        phi_end = phi_val\n",
    "        # push!(phi_list, phi_val + theta_zero)\n",
    "    end\n",
    "\n",
    "    for tmp_r_val in p_val: diff: 10 ^ 2\n",
    "        phi_val, error = quadgk( x -> 1 / sqrt( g(x, b_val) ), 1 / tmp_r_val, 1 / p_val)\n",
    "        push!(r_list, tmp_r_val)\n",
    "        push!(phi_list, phi_val + phi_end)\n",
    "        # push!(phi_list, phi_val + theta_zero)\n",
    "    end\n",
    "\n",
    "    # 計算結果のplot\n",
    "    x_list = []\n",
    "    y_list = []\n",
    "    for (phi_val, r_val) in zip(phi_list, r_list)\n",
    "        push!(x_list, r_val * cos(phi_val))\n",
    "        push!(y_list,  - r_val * sin(phi_val) )\n",
    "    end\n",
    "    plot!(plt, x_list, y_list, linewidth=2)\n",
    "\n",
    "    # pに対してのデータもplot\n",
    "    # x_list = []\n",
    "    # y_list = []\n",
    "    # for (phi_val, r_val) in zip(phi_list, r_list)\n",
    "    #     push!(x_list, r_val * cos(2 * phi_end-phi_val))\n",
    "    #     push!(y_list, r_val * sin(2 * phi_end-phi_val))\n",
    "    # end\n",
    "    # plot!(plt, x_list, y_list)\n",
    "\n",
    "    return plt\n",
    "end"
   ]
  },
  {
   "cell_type": "code",
   "execution_count": 24,
   "metadata": {},
   "outputs": [
    {
     "name": "stdout",
     "output_type": "stream",
     "text": [
      "5.8009349441124645.745187437462219"
     ]
    },
    {
     "data": {
      "text/plain": [
       "\"/Users/motoki/Desktop/motoki-omamiuda/gakushuin/codes/ipynb/2025-02/images/orbit/test.png\""
      ]
     },
     "execution_count": 24,
     "metadata": {},
     "output_type": "execute_result"
    }
   ],
   "source": [
    "plt = plot(\n",
    "    xlim=(-5, 22), ylim=(-5, 22), legend=false,\n",
    "    # xlabel=L\"r/M\",\n",
    "    # ylabel=L\"V_{eff}(r/M)\",\n",
    "    aspect_ratio=:equal,\n",
    "    dpi=400,\n",
    ")\n",
    "\n",
    "add_plot!(plt, 5.1)\n",
    "add_plot!(plt, 2.08)\n",
    "\n",
    "plot!(plt, [0, 1e3], [0, 1e3 * sin(pi/6) / cos(pi/6)], color=\"black\", style=:dash)\n",
    "\n",
    "savefig(plt, \"./images/orbit/test.png\")"
   ]
  },
  {
   "cell_type": "code",
   "execution_count": 20,
   "metadata": {},
   "outputs": [
    {
     "name": "stdout",
     "output_type": "stream",
     "text": [
      "1.5707963267948966"
     ]
    }
   ],
   "source": [
    "print(pi / 2)"
   ]
  },
  {
   "cell_type": "code",
   "execution_count": 35,
   "metadata": {},
   "outputs": [
    {
     "name": "stdout",
     "output_type": "stream",
     "text": [
      "1.7427300398938625"
     ]
    }
   ],
   "source": [
    "print(pi - 0.4255326545622561)"
   ]
  },
  {
   "cell_type": "code",
   "execution_count": null,
   "metadata": {},
   "outputs": [],
   "source": []
  }
 ],
 "metadata": {
  "kernelspec": {
   "display_name": "Julia 1.11.1",
   "language": "julia",
   "name": "julia-1.11"
  },
  "language_info": {
   "file_extension": ".jl",
   "mimetype": "application/julia",
   "name": "julia",
   "version": "1.11.1"
  }
 },
 "nbformat": 4,
 "nbformat_minor": 2
}
