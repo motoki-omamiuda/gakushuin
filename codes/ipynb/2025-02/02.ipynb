{
 "cells": [
  {
   "cell_type": "markdown",
   "metadata": {},
   "source": [
    "# 軌道のplot"
   ]
  },
  {
   "cell_type": "code",
   "execution_count": 1,
   "metadata": {},
   "outputs": [],
   "source": [
    "using Revise\n",
    "includet(\"./utils.jl\")"
   ]
  },
  {
   "cell_type": "code",
   "execution_count": 2,
   "metadata": {},
   "outputs": [],
   "source": [
    "using .Utils: create_r_and_v_list, binary_search_p, g, v_eff\n",
    "using Plots\n",
    "using QuadGK: quadgk"
   ]
  },
  {
   "cell_type": "code",
   "execution_count": null,
   "metadata": {},
   "outputs": [
    {
     "data": {
      "text/plain": [
       "add_plot! (generic function with 2 methods)"
      ]
     },
     "execution_count": 49,
     "metadata": {},
     "output_type": "execute_result"
    }
   ],
   "source": [
    "r_val = 20\n",
    "theta_zero = (30 / 360) * 2 * pi\n",
    "\n",
    "function add_plot!(plt, b_val, theta_zero=pi/6)\n",
    "    \"\"\"\n",
    "    無限遠、衝突係数bの位置を通る光のplot\n",
    "    \"\"\"\n",
    "    # Pの探索\n",
    "    r_and_v_list = create_r_and_v_list()\n",
    "    p_val = binary_search_p(b_val, r_and_v_list)\n",
    "\n",
    "    # 無限遠からPまでの計算\n",
    "    r_list = []\n",
    "    phi_list = []\n",
    "    diff = 1e-3\n",
    "    phi_end = 0\n",
    "    for u_val in diff: diff: 1 / p_val\n",
    "        phi_val, error = quadgk( u ->  1 / sqrt( g(u, b_val) ), 0, u_val)\n",
    "        push!(r_list, 1 / u_val)\n",
    "        push!(phi_list, phi_val + theta_zero)\n",
    "        phi_end = phi_val + theta_zero\n",
    "    end\n",
    "\n",
    "    # 計算結果のplot\n",
    "    x_list = []\n",
    "    y_list = []\n",
    "    for (phi_val, r_val) in zip(phi_list, r_list)\n",
    "        push!(x_list, r_val * cos(phi_val))\n",
    "        push!(y_list, r_val * sin(phi_val) )\n",
    "    end\n",
    "    plot!(plt, x_list, y_list)\n",
    "\n",
    "    # pに対してのデータもplot\n",
    "    x_list = []\n",
    "    y_list = []\n",
    "    for (phi_val, r_val) in zip(phi_list, r_list)\n",
    "        push!(x_list, r_val * cos(2 * phi_end-phi_val))\n",
    "        push!(y_list, r_val * sin(2 * phi_end-phi_val))\n",
    "    end\n",
    "    plot!(plt, x_list, y_list)\n",
    "    return plt\n",
    "end"
   ]
  },
  {
   "cell_type": "code",
   "execution_count": 50,
   "metadata": {},
   "outputs": [
    {
     "data": {
      "text/plain": [
       "\"/Users/motoki/Desktop/motoki-omamiuda/gakushuin/codes/ipynb/2025-02/images/orbit/test.png\""
      ]
     },
     "execution_count": 50,
     "metadata": {},
     "output_type": "execute_result"
    }
   ],
   "source": [
    "plt = plot(\n",
    "    xlim=(-10, 30), ylim=(-10, 10), legend=false,\n",
    "    # xlabel=L\"r/M\",\n",
    "    # ylabel=L\"V_{eff}(r/M)\",\n",
    "    dpi=400,\n",
    ")\n",
    "\n",
    "add_plot!(plt, 5.1)\n",
    "add_plot!(plt, 2.08)\n",
    "\n",
    "savefig(plt, \"./images/orbit/test.png\")"
   ]
  },
  {
   "cell_type": "code",
   "execution_count": 20,
   "metadata": {},
   "outputs": [
    {
     "name": "stdout",
     "output_type": "stream",
     "text": [
      "1.5707963267948966"
     ]
    }
   ],
   "source": [
    "print(pi / 2)"
   ]
  },
  {
   "cell_type": "code",
   "execution_count": null,
   "metadata": {},
   "outputs": [],
   "source": []
  }
 ],
 "metadata": {
  "kernelspec": {
   "display_name": "Julia 1.11.1",
   "language": "julia",
   "name": "julia-1.11"
  },
  "language_info": {
   "file_extension": ".jl",
   "mimetype": "application/julia",
   "name": "julia",
   "version": "1.11.1"
  }
 },
 "nbformat": 4,
 "nbformat_minor": 2
}
