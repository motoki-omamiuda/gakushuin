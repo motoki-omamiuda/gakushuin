{
 "cells": [
  {
   "cell_type": "code",
   "execution_count": 9,
   "metadata": {},
   "outputs": [],
   "source": [
    "using Plots\n",
    "using Format"
   ]
  },
  {
   "cell_type": "code",
   "execution_count": 10,
   "metadata": {},
   "outputs": [
    {
     "data": {
      "text/plain": [
       "v_eff_schwa (generic function with 1 method)"
      ]
     },
     "execution_count": 10,
     "metadata": {},
     "output_type": "execute_result"
    }
   ],
   "source": [
    "function v_eff_schwa(r_val)\n",
    "    return (1 / r_val ^ 2) * (1 - 2 / r_val)\n",
    "end"
   ]
  },
  {
   "cell_type": "code",
   "execution_count": null,
   "metadata": {},
   "outputs": [
    {
     "data": {
      "text/plain": [
       "\"/Users/motoki/Desktop/motoki-omamiuda/gakushuin/codes/ipynb/2025-02/images/v-eff.png\""
      ]
     },
     "execution_count": 18,
     "metadata": {},
     "output_type": "execute_result"
    }
   ],
   "source": [
    "\n",
    "function add_plot!(plt, color)\n",
    "    r_list = []\n",
    "    v_eff_list = []\n",
    "    for r_val in 0.0: 0.01: 10.0\n",
    "        push!(r_list, r_val)\n",
    "        push!(v_eff_list, v_eff_schwa(r_val))\n",
    "    end\n",
    "    plot!(plt, r_list, v_eff_list, color=color)\n",
    "    return plt\n",
    "end\n",
    "\n",
    "plt = plot(\n",
    "    xlim=(0, 10), ylim=(0, 0.05), legend=false,\n",
    "    dpi=400,\n",
    ")\n",
    "add_plot!(plt, \"black\")\n",
    "\n",
    "plot!(plt, [-100, 100], [1/27 + 0.01, 1/27 + 0.01], color=\"blue\", linewidth=2)\n",
    "plot!(plt, [-100, 100], [1/27, 1/27], color=\"red\", linewidth=2)\n",
    "plot!(plt, [-100, 100], [1/27 - 0.01, 1/27 - 0.01], color=\"green\", linewidth=2)\n",
    "\n",
    "savefig(plt, \"./images/v-eff.png\")"
   ]
  },
  {
   "cell_type": "code",
   "execution_count": null,
   "metadata": {},
   "outputs": [],
   "source": []
  }
 ],
 "metadata": {
  "kernelspec": {
   "display_name": "Julia 1.11.1",
   "language": "julia",
   "name": "julia-1.11"
  },
  "language_info": {
   "file_extension": ".jl",
   "mimetype": "application/julia",
   "name": "julia",
   "version": "1.11.1"
  }
 },
 "nbformat": 4,
 "nbformat_minor": 2
}
