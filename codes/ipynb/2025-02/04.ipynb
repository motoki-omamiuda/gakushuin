{
 "cells": [
  {
   "cell_type": "code",
   "execution_count": 6,
   "metadata": {},
   "outputs": [],
   "source": [
    "using Format"
   ]
  },
  {
   "cell_type": "code",
   "execution_count": 20,
   "metadata": {},
   "outputs": [
    {
     "data": {
      "text/plain": [
       "calc_phi (generic function with 2 methods)"
      ]
     },
     "execution_count": 20,
     "metadata": {},
     "output_type": "execute_result"
    }
   ],
   "source": [
    "function gamma(phi)\n",
    "    return acos( cos(phi) * sin(radian) )\n",
    "end\n",
    "\n",
    "function calc_a(phi)\n",
    "    gamma_val = gamma(phi)\n",
    "    inner_val = cos(phi) * cos(radian) / sin(gamma_val)\n",
    "    if abs(inner_val) > 1\n",
    "        return NaN\n",
    "    end\n",
    "    return acos( inner_val )\n",
    "end\n",
    "\n",
    "function calc_phi(alpha, theta=(2*pi*(80/360)))\n",
    "    return acos(cos(alpha) / sqrt(1 - sin(theta) ^ 2 * sin(alpha) ^ 2))\n",
    "end"
   ]
  },
  {
   "cell_type": "code",
   "execution_count": 31,
   "metadata": {},
   "outputs": [
    {
     "name": "stdout",
     "output_type": "stream",
     "text": [
      "alpha:\t84.34346445290574\n",
      "phi:\t60.30000000000006\n"
     ]
    }
   ],
   "source": [
    "radian = 1.4720711572420029\n",
    "# radian = pi - 2.109523632841894\n",
    "\n",
    "degree = 360 * (radian / (2 * pi))\n",
    "print(format(\"alpha:\\t{}\\n\", degree))\n",
    "\n",
    "phi = 360 * (calc_phi(radian) / (2 * pi))\n",
    "print(format(\"phi:\\t{}\\n\", phi))"
   ]
  },
  {
   "cell_type": "markdown",
   "metadata": {},
   "source": [
    "### v-eff"
   ]
  },
  {
   "cell_type": "code",
   "execution_count": 2,
   "metadata": {},
   "outputs": [],
   "source": [
    "using Plots"
   ]
  },
  {
   "cell_type": "code",
   "execution_count": 23,
   "metadata": {},
   "outputs": [
    {
     "data": {
      "text/plain": [
       "\"/Users/motoki/Desktop/motoki-omamiuda/gakushuin/codes/ipynb/2025-02/images/v-eff/schwartz.png\""
      ]
     },
     "execution_count": 23,
     "metadata": {},
     "output_type": "execute_result"
    }
   ],
   "source": [
    "plt = plot(\n",
    "    xlim=(0, 10), ylim=(0, 100), legend=false,\n",
    "    # xlabel=L\"r/M\",\n",
    "    # ylabel=L\"V_{eff}(r/M)\",\n",
    "    # aspect_ratio=:equal,\n",
    "    dpi=400,\n",
    ")\n",
    "\n",
    "function func(x)\n",
    "    # return (x - 3) ^ 2 * (x - 2) ^ 2 / (x * exp(1) ^ x)\n",
    "    return (x - 2) ^ 2 * (x - 3) ^ 2 + 0.1\n",
    "end\n",
    "\n",
    "x_list = []\n",
    "y_list = []\n",
    "for x_val in 0: 0.01: 10\n",
    "    push!(x_list, x_val)\n",
    "    push!(y_list, func(x_val))\n",
    "end\n",
    "plot!(plt, x_list, y_list)\n",
    "\n",
    "# plot!(plt, [0, 1e3], [0, 1e3 * sin(pi/6) / cos(pi/6)], color=\"black\", style=:dash)\n",
    "\n",
    "savefig(plt, \"./images/v-eff/schwartz.png\")"
   ]
  },
  {
   "cell_type": "code",
   "execution_count": null,
   "metadata": {},
   "outputs": [],
   "source": []
  }
 ],
 "metadata": {
  "kernelspec": {
   "display_name": "Julia 1.11.1",
   "language": "julia",
   "name": "julia-1.11"
  },
  "language_info": {
   "file_extension": ".jl",
   "mimetype": "application/julia",
   "name": "julia",
   "version": "1.11.1"
  }
 },
 "nbformat": 4,
 "nbformat_minor": 2
}
