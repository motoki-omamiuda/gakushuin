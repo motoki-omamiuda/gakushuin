{
 "cells": [
  {
   "cell_type": "markdown",
   "metadata": {},
   "source": [
    "# 有効ポテンシャルのplot"
   ]
  },
  {
   "cell_type": "code",
   "execution_count": 1,
   "metadata": {},
   "outputs": [],
   "source": [
    "using Plots\n",
    "using LaTeXStrings"
   ]
  },
  {
   "cell_type": "markdown",
   "metadata": {},
   "source": [
    "### ブハダール時空"
   ]
  },
  {
   "cell_type": "code",
   "execution_count": 41,
   "metadata": {},
   "outputs": [
    {
     "data": {
      "text/plain": [
       "v_eff (generic function with 1 method)"
      ]
     },
     "execution_count": 41,
     "metadata": {},
     "output_type": "execute_result"
    }
   ],
   "source": [
    "function f(r_val, a_val)\n",
    "    return a_val / (2 * sqrt(1 + a_val ^ 2 * r_val ^ 2 ))\n",
    "end\n",
    "\n",
    "function v_eff(r_val, a_val)\n",
    "    return (1 - f(r_val, a_val)) ^ 2 / (r_val ^ 2 * (1 + f(r_val, a_val)) ^ 6)\n",
    "end"
   ]
  },
  {
   "cell_type": "code",
   "execution_count": 42,
   "metadata": {},
   "outputs": [
    {
     "data": {
      "text/plain": [
       "\"/Users/motoki/Desktop/motoki-omamiuda/gakushuin/codes/ipynb/2025-02/images/r_and_v_eff.png\""
      ]
     },
     "execution_count": 42,
     "metadata": {},
     "output_type": "execute_result"
    }
   ],
   "source": [
    "function add_plot!(plt, a_val, color)\n",
    "    r_list = []\n",
    "    v_eff_list = []\n",
    "    for r_val in 0.0: 0.01: 10.0\n",
    "        push!(r_list, r_val)\n",
    "        push!(v_eff_list, v_eff(r_val, a_val))\n",
    "    end\n",
    "    plot!(plt, r_list, v_eff_list, color=color)\n",
    "    return plt\n",
    "end\n",
    "\n",
    "plt = plot(\n",
    "    xlim=(0, 3), ylim=(0, 0.1), legend=false,\n",
    "    # xlabel=L\"r/M\",\n",
    "    # ylabel=L\"V_{eff}(r/M)\",\n",
    "    dpi=400,\n",
    ")\n",
    "\n",
    "plot_style = [\n",
    "    (0.5, \"#FF0000\"),\n",
    "    (1.0, \"#0000ff\"),\n",
    "    (1.5, \"#000000\")\n",
    "]\n",
    "\n",
    "for (a_val, color) in plot_style\n",
    "    add_plot!(plt, a_val, color)\n",
    "end\n",
    "\n",
    "annotate!(plt, (0.6, 0.05, L\"a = 1.5\"))\n",
    "annotate!(plt, (1.5, 0.065, L\"a = 1.0\"))\n",
    "annotate!(plt, (2.2, 0.07, L\"a = 0.5\"))\n",
    "\n",
    "savefig(plt, \"./images/r_and_v_eff.png\")"
   ]
  },
  {
   "cell_type": "markdown",
   "metadata": {},
   "source": [
    "### シュバルツシルト時空"
   ]
  },
  {
   "cell_type": "code",
   "execution_count": 10,
   "metadata": {},
   "outputs": [
    {
     "data": {
      "text/plain": [
       "v_eff (generic function with 2 methods)"
      ]
     },
     "execution_count": 10,
     "metadata": {},
     "output_type": "execute_result"
    }
   ],
   "source": [
    "function v_eff(r_val)\n",
    "    return (1 / r_val ^ 2) * (1 - 2 / r_val)\n",
    "end"
   ]
  },
  {
   "cell_type": "code",
   "execution_count": 14,
   "metadata": {},
   "outputs": [
    {
     "data": {
      "text/plain": [
       "\"/Users/motoki/Desktop/motoki-omamiuda/gakushuin/codes/ipynb/2025-02/images/r_and_v_eff_shwartz.png\""
      ]
     },
     "execution_count": 14,
     "metadata": {},
     "output_type": "execute_result"
    }
   ],
   "source": [
    "function add_plot!(plt, color)\n",
    "    r_list = []\n",
    "    v_eff_list = []\n",
    "    for r_val in 0.0: 0.01: 10.0\n",
    "        push!(r_list, r_val)\n",
    "        push!(v_eff_list, v_eff(r_val))\n",
    "    end\n",
    "    plot!(plt, r_list, v_eff_list, color=color)\n",
    "    return plt\n",
    "end\n",
    "\n",
    "plt = plot(\n",
    "    xlim=(0, 10), ylim=(0, 0.05), legend=false,\n",
    "    # xlabel=L\"r/M\",\n",
    "    # ylabel=L\"V_{eff}(r/M)\",\n",
    "    dpi=400,\n",
    ")\n",
    "\n",
    "add_plot!(plt, \"#000000\")\n",
    "\n",
    "savefig(plt, \"./images/r_and_v_eff_shwartz.png\")"
   ]
  },
  {
   "cell_type": "markdown",
   "metadata": {},
   "source": [
    "### 同時にplot"
   ]
  },
  {
   "cell_type": "code",
   "execution_count": 2,
   "metadata": {},
   "outputs": [
    {
     "data": {
      "text/plain": [
       "v_eff_shwa (generic function with 1 method)"
      ]
     },
     "execution_count": 2,
     "metadata": {},
     "output_type": "execute_result"
    }
   ],
   "source": [
    "function f(r_val, a_val)\n",
    "    return a_val / (2 * sqrt(1 + a_val ^ 2 * r_val ^ 2 ))\n",
    "end\n",
    "\n",
    "function v_eff_buch(r_val, a_val)\n",
    "    return (1 - f(r_val, a_val)) ^ 2 / (r_val ^ 2 * (1 + f(r_val, a_val)) ^ 6)\n",
    "end\n",
    "\n",
    "function v_eff_shwa(r_val)\n",
    "    return (1 / r_val ^ 2) * (1 - 2 / r_val)\n",
    "end"
   ]
  },
  {
   "cell_type": "code",
   "execution_count": null,
   "metadata": {},
   "outputs": [
    {
     "data": {
      "text/plain": [
       "\"/Users/motoki/Desktop/motoki-omamiuda/gakushuin/codes/ipynb/2025-02/images/r_and_v_eff_double.png\""
      ]
     },
     "execution_count": 3,
     "metadata": {},
     "output_type": "execute_result"
    }
   ],
   "source": [
    "\n",
    "function add_plot!(plt, flag, color, a_val=1.0)\n",
    "    r_list = []\n",
    "    v_eff_list = []\n",
    "    if flag == \"shwa\"\n",
    "        for r_val in 0.0: 0.01: 10.0\n",
    "            push!(r_list, r_val)\n",
    "            push!(v_eff_list, v_eff_shwa(r_val))\n",
    "        end\n",
    "    end\n",
    "    if flag == \"buch\"\n",
    "        for r_val in 0.0: 0.01: 10.0\n",
    "            push!(r_list, r_val)\n",
    "            push!(v_eff_list, v_eff_buch(r_val, a_val))\n",
    "        end\n",
    "    end\n",
    "    plot!(plt, r_list, v_eff_list, color=color)\n",
    "    return plt\n",
    "end\n",
    "\n",
    "plt = plot(\n",
    "    xlim=(0, 7), ylim=(0, 0.08), legend=false,\n",
    "    dpi=400,\n",
    ")\n",
    "\n",
    "plot_style = [\n",
    "    (0.5, \"#FF0000\"),\n",
    "    (1.0, \"#0000ff\"),\n",
    "    (1.5, \"#000000\")\n",
    "]\n",
    "\n",
    "for (a_val, color) in plot_style\n",
    "    add_plot!(plt, \"buch\", color, a_val)\n",
    "end\n",
    "\n",
    "add_plot!(plt, \"shwa\", \"#ff00ff\")\n",
    "\n",
    "savefig(plt, \"./images/r_and_v_eff_double.png\")"
   ]
  },
  {
   "cell_type": "markdown",
   "metadata": {},
   "source": [
    "### 有効ポテンシャルと衝突係数"
   ]
  },
  {
   "cell_type": "code",
   "execution_count": 6,
   "metadata": {},
   "outputs": [
    {
     "data": {
      "text/plain": [
       "v_eff (generic function with 1 method)"
      ]
     },
     "execution_count": 6,
     "metadata": {},
     "output_type": "execute_result"
    }
   ],
   "source": [
    "function f(r_val, a_val)\n",
    "    return a_val / (2 * sqrt(1 + a_val ^ 2 * r_val ^ 2 ))\n",
    "end\n",
    "\n",
    "function v_eff(r_val, a_val)\n",
    "    return (1 - f(r_val, a_val)) ^ 2 / (r_val ^ 2 * (1 + f(r_val, a_val)) ^ 6)\n",
    "end"
   ]
  },
  {
   "cell_type": "code",
   "execution_count": 9,
   "metadata": {},
   "outputs": [
    {
     "data": {
      "text/plain": [
       "\"/Users/motoki/Desktop/motoki-omamiuda/gakushuin/codes/ipynb/2025-02/images/r_and_v_eff_and_b.png\""
      ]
     },
     "execution_count": 9,
     "metadata": {},
     "output_type": "execute_result"
    }
   ],
   "source": [
    "\n",
    "function add_plot!(plt, a_val, color)\n",
    "    r_list = []\n",
    "    v_eff_list = []\n",
    "    for r_val in 0.0: 0.01: 10.0\n",
    "        push!(r_list, r_val)\n",
    "        push!(v_eff_list, v_eff(r_val, a_val))\n",
    "    end\n",
    "    plot!(plt, r_list, v_eff_list, color=color)\n",
    "    return plt\n",
    "end\n",
    "\n",
    "plt = plot(\n",
    "    # xlim=(0, 3), ylim=(0, 0.2), legend=false,\n",
    "    xlim=(0, 5), ylim=(0.02, 0.1), legend=false,\n",
    "    yscale=:log10,\n",
    "    # aspect_ratios=20,\n",
    "    dpi=400,\n",
    ")\n",
    "\n",
    "\n",
    "add_plot!(plt, 1.5, \"black\")\n",
    "\n",
    "# color_map = [\n",
    "#     (0, \"#FF0000\"),\n",
    "#     (1, \"#0ff000\"),\n",
    "#     (2, \"#0ff000\")\n",
    "# ]\n",
    "\n",
    "# # delta_phi が pi ~ pi * 2\n",
    "# under = 1 / (2.42 ^ 2)\n",
    "# over = 1 / (0.06 ^ 2)\n",
    "# plot!(\n",
    "#     plt, [-100, 100, 100, -100],\n",
    "#     [under, under, over, over],\n",
    "#     linewidth=1, style=:dash, color=\"red\", fillcolor=\"red\", fillalpha=0.1, fillrange=0\n",
    "# )\n",
    "\n",
    "# under = 1 / (4.99 ^ 2)\n",
    "# over = 1 / (10.5 ^ 2)\n",
    "# plot!(\n",
    "#     plt, [-100, 100, 100, -100],\n",
    "#     [under, under, over, over],\n",
    "#     linewidth=1, style=:dash, color=\"red\", fillcolor=\"red\", fillalpha=0.1, fillrange=0\n",
    "# )\n",
    "\n",
    "# # delta_phi が pi * 2 ~ pi * 3\n",
    "# under = 1 / (2.42 ^ 2)\n",
    "# over = 1 / (3.83 ^ 2)\n",
    "# plot!(\n",
    "#     plt, [-100, 100, 100, -100],\n",
    "#     [under, under, over, over],\n",
    "#     linewidth=1, style=:dash, color=\"#0000ff\", fillcolor=\"#0000ff\", fillalpha=0.1, fillrange=0\n",
    "# )\n",
    "\n",
    "# under = 1 / (4.99 ^ 2)\n",
    "# over = 1 / (4.8 ^ 2)\n",
    "# plot!(\n",
    "#     plt, [-100, 100, 100, -100],\n",
    "#     [under, under, over, over],\n",
    "#     linewidth=1, style=:dash, color=\"#0000ff\", fillcolor=\"#0000ff\", fillalpha=0.1, fillrange=0\n",
    "# )\n",
    "\n",
    "# # delta_phi が pi * 3 ~ pi * 4\n",
    "# under = 1 / (3.83 ^ 2)\n",
    "# over = 1 / (4.42 ^ 2)\n",
    "# plot!(\n",
    "#     plt, [-100, 100, 100, -100],\n",
    "#     [under, under, over, over],\n",
    "#     linewidth=1, style=:dash, color=\"#0ff000\", fillcolor=\"#0ff000\", fillalpha=0.1, fillrange=0\n",
    "# )\n",
    "\n",
    "# under = 1 / (4.8 ^ 2)\n",
    "# over = 1 / (4.78 ^ 2)\n",
    "# plot!(\n",
    "#     plt, [-100, 100, 100, -100],\n",
    "#     [under, under, over, over],\n",
    "#     linewidth=1, style=:dash, color=\"#0ff000\", fillcolor=\"#0ff000\", fillalpha=0.1, fillrange=0\n",
    "# )\n",
    "\n",
    "\n",
    "savefig(plt, \"./images/r_and_v_eff_and_b.png\")"
   ]
  },
  {
   "cell_type": "code",
   "execution_count": null,
   "metadata": {},
   "outputs": [
    {
     "data": {
      "text/plain": [
       "g (generic function with 1 method)"
      ]
     },
     "execution_count": 25,
     "metadata": {},
     "output_type": "execute_result"
    }
   ],
   "source": [
    "function func(r)\n",
    "    return (r-1)^2 * (r-2)^2\n",
    "end"
   ]
  },
  {
   "cell_type": "code",
   "execution_count": 28,
   "metadata": {},
   "outputs": [
    {
     "data": {
      "text/plain": [
       "\"/Users/motoki/Desktop/motoki-omamiuda/gakushuin/codes/ipynb/2025-02/images/tmp.png\""
      ]
     },
     "execution_count": 28,
     "metadata": {},
     "output_type": "execute_result"
    }
   ],
   "source": [
    "\n",
    "function add_plot_g!(plt, a_val, color)\n",
    "    r_list = []\n",
    "    g_list = []\n",
    "    for r_val in 0.0: 0.01: 10.0\n",
    "        push!(r_list, r_val)\n",
    "        push!(g_list, g(r_val, a_val))\n",
    "    end\n",
    "    plot!(plt, r_list, g_list, color=color)\n",
    "    return plt\n",
    "end\n",
    "\n",
    "\n",
    "function add_plot!(plt, a_val, color)\n",
    "    r_list = []\n",
    "    v_eff_list = []\n",
    "    for r_val in 0.0: 0.01: 10.0\n",
    "        push!(r_list, r_val)\n",
    "        push!(v_eff_list, v_eff(r_val, a_val))\n",
    "    end\n",
    "    plot!(plt, r_list, v_eff_list, color=color)\n",
    "    return plt\n",
    "end\n",
    "\n",
    "plt = plot(\n",
    "    # xlim=(0, 3), ylim=(0, 0.1), legend=false,\n",
    "    xlim=(0, 3), ylim=(0, 0.2), legend=false,\n",
    "    xlabel=L\"r/M\",\n",
    "    ylabel=L\"\\mathrm{V_{eff}}\",\n",
    "    dpi=400,\n",
    ")\n",
    "\n",
    "\n",
    "add_plot_g!(plt, 1.5, \"black\")\n",
    "\n",
    "add_plot!(plt, 1.5, \"black\")\n",
    "\n",
    "color_map = [\n",
    "    (0, \"#FF0000\"),\n",
    "    (1, \"#0ff000\"),\n",
    "    (2, \"#0ff000\")\n",
    "]\n",
    "\n",
    "# delta_phi が pi ~ pi * 2\n",
    "under = 1 / (2.42 ^ 2)\n",
    "over = 1 / (0.06 ^ 2)\n",
    "plot!(\n",
    "    plt, [-100, 100, 100, -100],\n",
    "    [under, under, over, over],\n",
    "    linewidth=1, style=:dash, color=\"red\", fillcolor=\"red\", fillalpha=0.1, fillrange=0\n",
    ")\n",
    "\n",
    "under = 1 / (4.99 ^ 2)\n",
    "over = 1 / (10.5 ^ 2)\n",
    "plot!(\n",
    "    plt, [-100, 100, 100, -100],\n",
    "    [under, under, over, over],\n",
    "    linewidth=1, style=:dash, color=\"red\", fillcolor=\"red\", fillalpha=0.1, fillrange=0\n",
    ")\n",
    "\n",
    "# delta_phi が pi * 2 ~ pi * 3\n",
    "under = 1 / (2.42 ^ 2)\n",
    "over = 1 / (3.83 ^ 2)\n",
    "plot!(\n",
    "    plt, [-100, 100, 100, -100],\n",
    "    [under, under, over, over],\n",
    "    linewidth=1, style=:dash, color=\"#0000ff\", fillcolor=\"#0000ff\", fillalpha=0.1, fillrange=0\n",
    ")\n",
    "\n",
    "under = 1 / (4.99 ^ 2)\n",
    "over = 1 / (4.8 ^ 2)\n",
    "plot!(\n",
    "    plt, [-100, 100, 100, -100],\n",
    "    [under, under, over, over],\n",
    "    linewidth=1, style=:dash, color=\"#0000ff\", fillcolor=\"#0000ff\", fillalpha=0.1, fillrange=0\n",
    ")\n",
    "\n",
    "# delta_phi が pi * 3 ~ pi * 4\n",
    "under = 1 / (3.83 ^ 2)\n",
    "over = 1 / (4.42 ^ 2)\n",
    "plot!(\n",
    "    plt, [-100, 100, 100, -100],\n",
    "    [under, under, over, over],\n",
    "    linewidth=1, style=:dash, color=\"#0ff000\", fillcolor=\"#0ff000\", fillalpha=0.1, fillrange=0\n",
    ")\n",
    "\n",
    "under = 1 / (4.8 ^ 2)\n",
    "over = 1 / (4.78 ^ 2)\n",
    "plot!(\n",
    "    plt, [-100, 100, 100, -100],\n",
    "    [under, under, over, over],\n",
    "    linewidth=1, style=:dash, color=\"#0ff000\", fillcolor=\"#0ff000\", fillalpha=0.1, fillrange=0\n",
    ")\n",
    "\n",
    "\n",
    "savefig(plt, \"./images/tmp.png\")"
   ]
  },
  {
   "cell_type": "code",
   "execution_count": null,
   "metadata": {},
   "outputs": [],
   "source": []
  }
 ],
 "metadata": {
  "kernelspec": {
   "display_name": "Julia 1.11.1",
   "language": "julia",
   "name": "julia-1.11"
  },
  "language_info": {
   "file_extension": ".jl",
   "mimetype": "application/julia",
   "name": "julia",
   "version": "1.11.1"
  }
 },
 "nbformat": 4,
 "nbformat_minor": 2
}
