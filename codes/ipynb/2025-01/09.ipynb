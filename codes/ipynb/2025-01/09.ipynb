{
 "cells": [
  {
   "cell_type": "code",
   "execution_count": 2,
   "metadata": {},
   "outputs": [],
   "source": [
    "using Plots"
   ]
  },
  {
   "cell_type": "code",
   "execution_count": 19,
   "metadata": {},
   "outputs": [
    {
     "data": {
      "text/plain": [
       "\"/Users/motoki/Desktop/mo-to-ki/gakushuin/codes/ipynb/2025-01/images/wec.png\""
      ]
     },
     "execution_count": 19,
     "metadata": {},
     "output_type": "execute_result"
    }
   ],
   "source": [
    "plt = plot(\n",
    "    xlim=(-3, 4), ylim=(-2, 2), legend=false,\n",
    ")\n",
    "\n",
    "x_list = []\n",
    "y_list = []\n",
    "for i in -10: 0.01: 10\n",
    "    push!(x_list, i)\n",
    "    push!(y_list, 1 + i / ( 3 * (1 - i) ))\n",
    "end\n",
    "\n",
    "plot!(plt, x_list, y_list)\n",
    "\n",
    "plot!(\n",
    "    plt, [-3, 4, 4, -3], [0, 0, -3, -3],\n",
    "    linewidth=0, fillcolor=:black, fillalpha=0.1, fillrange=0\n",
    ")\n",
    "plot!(\n",
    "    plt, [1, 1.5, 1.5, 1], [10, 10, -10, -10],\n",
    "    linewidth=0, fillcolor=:black, fillalpha=0.2, fillrange=0\n",
    ")\n",
    "\n",
    "savefig(plt, \"./images/wec.png\")"
   ]
  },
  {
   "cell_type": "code",
   "execution_count": 17,
   "metadata": {},
   "outputs": [
    {
     "data": {
      "text/plain": [
       "\"/Users/motoki/Desktop/mo-to-ki/gakushuin/codes/ipynb/2025-01/images/sec.png\""
      ]
     },
     "execution_count": 17,
     "metadata": {},
     "output_type": "execute_result"
    }
   ],
   "source": [
    "plt = plot(\n",
    "    xlim=(-3, 4), ylim=(-2, 2), legend=false,\n",
    ")\n",
    "\n",
    "x_list = []\n",
    "y_list = []\n",
    "for i in -10: 0.01: 10\n",
    "    push!(x_list, i)\n",
    "    push!(y_list, 1 + i / ( (1 - i) ))\n",
    "end\n",
    "\n",
    "plot!(plt, x_list, y_list)\n",
    "\n",
    "plot!(\n",
    "    plt, [-3, 4, 4, -3], [0, 0, -3, -3],\n",
    "    linewidth=0, fillcolor=:black, fillalpha=0.1, fillrange=0\n",
    ")\n",
    "plot!(\n",
    "    plt, [1, 10, 10, 1], [10, 10, -10, -10],\n",
    "    linewidth=0, fillcolor=:black, fillalpha=0.2, fillrange=0\n",
    ")\n",
    "\n",
    "savefig(plt, \"./images/sec.png\")"
   ]
  },
  {
   "cell_type": "code",
   "execution_count": 23,
   "metadata": {},
   "outputs": [
    {
     "data": {
      "text/plain": [
       "\"/Users/motoki/Desktop/mo-to-ki/gakushuin/codes/ipynb/2025-01/images/dec.png\""
      ]
     },
     "execution_count": 23,
     "metadata": {},
     "output_type": "execute_result"
    }
   ],
   "source": [
    "plt = plot(\n",
    "    xlim=(-3, 4), ylim=(-2, 2), legend=false,\n",
    ")\n",
    "\n",
    "x_list = []\n",
    "y_list = []\n",
    "for i in -10: 0.01: 10\n",
    "    push!(x_list, i)\n",
    "    push!(y_list, i / ( 3 * (1 - i) ))\n",
    "end\n",
    "\n",
    "plot!(plt, x_list, y_list)\n",
    "\n",
    "plot!(\n",
    "    plt, [-3, 4, 4, -3], [1, 1, 10, 10],\n",
    "    linewidth=0, fillcolor=:black, fillalpha=0.1, fillrange=0\n",
    ")\n",
    "plot!(\n",
    "    plt, [-3, 4, 4, -3], [-1, -1, -10, -10],\n",
    "    linewidth=0, fillcolor=:black, fillalpha=0.1, fillrange=0\n",
    ")\n",
    "plot!(\n",
    "    plt, [3/4, 1.5, 1.5, 3/4], [10, 10, -10, -10],\n",
    "    linewidth=0, fillcolor=:black, fillalpha=0.2, fillrange=0\n",
    ")\n",
    "\n",
    "savefig(plt, \"./images/dec.png\")"
   ]
  },
  {
   "cell_type": "code",
   "execution_count": null,
   "metadata": {},
   "outputs": [],
   "source": []
  },
  {
   "cell_type": "code",
   "execution_count": null,
   "metadata": {},
   "outputs": [],
   "source": []
  }
 ],
 "metadata": {
  "kernelspec": {
   "display_name": "Julia 1.11.1",
   "language": "julia",
   "name": "julia-1.11"
  },
  "language_info": {
   "file_extension": ".jl",
   "mimetype": "application/julia",
   "name": "julia",
   "version": "1.11.1"
  }
 },
 "nbformat": 4,
 "nbformat_minor": 2
}
